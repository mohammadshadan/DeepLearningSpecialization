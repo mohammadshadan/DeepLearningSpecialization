{
 "cells": [
  {
   "cell_type": "code",
   "execution_count": 1,
   "metadata": {},
   "outputs": [
    {
     "name": "stdout",
     "output_type": "stream",
     "text": [
      "Gradient Checking v1.ipynb\n",
      "Untitled.ipynb\n",
      "__pycache__/\n",
      "__pycache__/testCases.cpython-36.pyc\n",
      "__pycache__/gc_utils.cpython-36.pyc\n",
      "gc_utils.py\n",
      "images/\n",
      "images/handforward_kiank.png\n",
      "images/NDgrad_kiank.png\n",
      "images/handbackward_kiank.png\n",
      "images/dictionary_to_vector.png\n",
      "images/1Dgrad_kiank.png\n",
      "testCases.py\n"
     ]
    }
   ],
   "source": [
    "!tar cvfz notebook.tar.gz * --exclude=notebook.tar.gz"
   ]
  },
  {
   "cell_type": "code",
   "execution_count": null,
   "metadata": {
    "collapsed": true
   },
   "outputs": [],
   "source": []
  }
 ],
 "metadata": {
  "kernelspec": {
   "display_name": "Python 3",
   "language": "python",
   "name": "python3"
  },
  "language_info": {
   "codemirror_mode": {
    "name": "ipython",
    "version": 3
   },
   "file_extension": ".py",
   "mimetype": "text/x-python",
   "name": "python",
   "nbconvert_exporter": "python",
   "pygments_lexer": "ipython3",
   "version": "3.6.0"
  }
 },
 "nbformat": 4,
 "nbformat_minor": 2
}
